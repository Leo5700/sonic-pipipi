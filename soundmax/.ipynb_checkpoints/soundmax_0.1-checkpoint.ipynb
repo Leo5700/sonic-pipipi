{
 "cells": [
  {
   "cell_type": "markdown",
   "metadata": {},
   "source": [
    "# soundmax"
   ]
  },
  {
   "cell_type": "markdown",
   "metadata": {},
   "source": [
    "* выбрать нижнюю границу частоты, верхнюю границу частоты и шаг вычисления гистограммы (в долях октавы)\n",
    "* построить верхнюю границу гистограммы за n периодов дискретизации (возможно, имеер смысл осреднять значения за некий период)\n",
    "* найти левый локальный максимум, отступить от него влево на случайное число октав так, чтобы базовая частота пентотоники оказалась между 77 и 333 Гц\n",
    "* случайно выбрать размах пентатоники в диапазоне 1..4 октавы (допускаются нецелые значения (уточнить))\n",
    "* по истечении периода смены базовой частоты (16..37 секунд) повторить формирование"
   ]
  },
  {
   "cell_type": "code",
   "execution_count": 92,
   "metadata": {},
   "outputs": [
    {
     "name": "stdout",
     "output_type": "stream",
     "text": [
      "[[1.90995817 4.44234786 3.08006423 ... 8.53981917 7.60540716 5.54814892]\n",
      " [7.00340334 8.05543324 5.40889617 ... 9.36177077 4.90165564 6.06462649]\n",
      " [2.31434555 2.61107244 2.17749141 ... 0.         0.         0.        ]\n",
      " [0.         0.         0.         ... 0.         0.         0.        ]]\n"
     ]
    }
   ],
   "source": [
    "import numpy as np\n",
    "f = 600  # длина отрезка потока, на котором строится гистограмма\n",
    "n = 4  # число f-ов для осреднения гистограммы\n",
    "a = np.zeros((f * n, 1))\n",
    "for i in range(300):  # поток данных укладываем в матрицу нужного размера, сдвигая имеющиеся данные и выбрасывая самые старые данные\n",
    "    s = np.random.uniform(1, 10, np.random.randint(1, 10))  # имитация показаний датчика звукового давления\n",
    "    a = np.roll(a, len(s))\n",
    "    np.put(a, np.arange(len(s)), s)\n",
    "a = a.reshape(n, f)\n",
    "print(a)"
   ]
  },
  {
   "cell_type": "code",
   "execution_count": 96,
   "metadata": {},
   "outputs": [
    {
     "data": {
      "image/png": "[encoded data removed]",
      "text/plain": [
       "<Figure size 432x288 with 1 Axes>"
      ]
     },
     "metadata": {
      "needs_background": "light"
     },
     "output_type": "display_data"
    }
   ],
   "source": [
    "import matplotlib.pyplot as plt\n",
    "\n",
    "count, bins, ignored = plt.hist(a[0], 15, density=True)\n",
    "plt.plot(bins, np.ones_like(bins) * 0.2, linewidth=2, color='r')\n",
    "plt.show()"
   ]
  },
  {
   "cell_type": "code",
   "execution_count": 95,
   "metadata": {},
   "outputs": [
    {
     "data": {
      "image/png": "[encoded data removed]",
      "text/plain": [
       "<Figure size 432x288 with 1 Axes>"
      ]
     },
     "metadata": {
      "needs_background": "light"
     },
     "output_type": "display_data"
    }
   ],
   "source": [
    "count, bins, ignored = plt.hist(a[1], 15, density=True)\n",
    "plt.plot(bins, np.ones_like(bins) * 0.2, linewidth=2, color='r')\n",
    "plt.show()"
   ]
  }
 ],
 "metadata": {
  "kernelspec": {
   "display_name": "Python 3",
   "language": "python",
   "name": "python3"
  },
  "language_info": {
   "codemirror_mode": {
    "name": "ipython",
    "version": 3
   },
   "file_extension": ".py",
   "mimetype": "text/x-python",
   "name": "python",
   "nbconvert_exporter": "python",
   "pygments_lexer": "ipython3",
   "version": "3.7.1"
  }
 },
 "nbformat": 4,
 "nbformat_minor": 2
}
